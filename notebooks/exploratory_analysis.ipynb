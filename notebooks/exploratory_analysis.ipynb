{
 "cells": [
  {
   "cell_type": "markdown",
   "metadata": {},
   "source": [
    "   \"cell_type\": \"markdown\",\n",
    "   \"metadata\": {},\n",
    "   \"source\": [\n",
    "    \"# 数据探索性分析\"\n",
    "   ]"
   ]
  },
  {
   "cell_type": "code",
   "execution_count": null,
   "metadata": {
    "vscode": {
     "languageId": "plaintext"
    }
   },
   "outputs": [],
   "source": [
    "   \"cell_type\": \"code\",\n",
    "   \"execution_count\": null,\n",
    "   \"metadata\": {},\n",
    "   \"outputs\": [],\n",
    "   \"source\": [\n",
    "    \"import numpy as np\\n\",\n",
    "    \"import pandas as pd\\n\",\n",
    "    \"import matplotlib.pyplot as plt\\n\",\n",
    "    \"import seaborn as sns\\n\",\n",
    "    \"from scipy import sparse\\n\",\n",
    "    \"\\n\",\n",
    "    \"# 设置中文显示\\n\",\n",
    "    \"plt.rcParams['font.sans-serif'] = ['SimHei']\\n\",\n",
    "    \"plt.rcParams['axes.unicode_minus'] = False\"\n",
    "   ]"
   ]
  },
  {
   "cell_type": "code",
   "execution_count": null,
   "metadata": {
    "vscode": {
     "languageId": "plaintext"
    }
   },
   "outputs": [],
   "source": [
    " \"cell_type\": \"code\",\n",
    "   \"execution_count\": null,\n",
    "   \"metadata\": {},\n",
    "   \"outputs\": [],\n",
    "   \"source\": [\n",
    "    \"# 加载数据\\n\",\n",
    "    \"X = np.load('path/to/train_data.npy')\\n\",\n",
    "    \"y = np.load('path/to/train_labels.npy')\\n\",\n",
    "    \"\\n\",\n",
    "    \"# 分析数据基本信息\\n\",\n",
    "    \"print(f\\\"特征矩阵形状: {X.shape}\\\")\\n\",\n",
    "    \"print(f\\\"标签数量: {len(np.unique(y))}\\\")\\n\",\n",
    "    \"\\n\",\n",
    "    \"# 分析稀疏度\\n\",\n",
    "    \"sparsity = 1.0 - np.count_nonzero(X) / X.size\\n\",\n",
    "    \"print(f\\\"稀疏度: {sparsity:.4f}\\\")\\n\",\n",
    "    \"\\n\",\n",
    "    \"# 绘制类别分布\\n\",\n",
    "    \"plt.figure(figsize=(12, 6))\\n\",\n",
    "    \"sns.countplot(y)\\n\",\n",
    "    \"plt.title('类别分布')\\n\",\n",
    "    \"plt.xlabel('类别')\\n\",\n",
    "    \"plt.ylabel('样本数量')\\n\",\n",
    "    \"plt.xticks(rotation=45)\\n\",\n",
    "    \"plt.show()\"\n",
    "   ]"
   ]
  }
 ],
 "metadata": {
  "language_info": {
   "name": "python"
  }
 },
 "nbformat": 4,
 "nbformat_minor": 2
}
